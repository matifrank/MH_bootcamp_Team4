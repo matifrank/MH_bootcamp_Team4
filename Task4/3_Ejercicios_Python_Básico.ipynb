{
  "cells": [
    {
      "cell_type": "markdown",
      "id": "a5e8e1c1",
      "metadata": {
        "id": "a5e8e1c1"
      },
      "source": [
        "![](https://i.pinimg.com/originals/73/20/2a/73202af19e27fbfac7acddeb1763e789.jpg)\n",
        "\n",
        "\n",
        "### 1.1\n",
        "Escribir un script que pregunte el nombre del usuario, luego muestre por pantalla el siguiente mensaje:\n",
        "\n",
        "¡Hola ``nombre``!, tu nombre tiene ``cantidad_de_letras`` letras\n",
        "    \n",
        "    \n",
        "- ``nombre`` es el nombre que el usuario haya introducido.\n",
        "- ``cantidad_de_letras`` es la cantidad de letras que posee ``nombre``"
      ]
    },
    {
      "cell_type": "code",
      "execution_count": null,
      "id": "72913c06",
      "metadata": {
        "colab": {
          "base_uri": "https://localhost:8080/"
        },
        "id": "72913c06",
        "outputId": "00e29c7e-8ac6-40d8-b620-d541533b8e84"
      },
      "outputs": [
        {
          "output_type": "stream",
          "name": "stdout",
          "text": [
            "¿Cómo te llamas? Nicolas\n",
            "¡Hola Nicolas!, tu nombre tiene 7 letras\n"
          ]
        }
      ],
      "source": [
        "nombre = input(\"¿Cuál es tu nombre? \")\n",
        "cantidad_de_letras = len(nombre)\n",
        "print(f\"¡Hola {nombre}!, tu nombre tiene {cantidad_de_letras} letras\")\n"
      ]
    },
    {
      "cell_type": "markdown",
      "id": "dc225348",
      "metadata": {
        "id": "dc225348"
      },
      "source": [
        "### 1.2\n",
        "Escribir un script que pregunte el nombre y apellido del usuario y después muestre el nombre completo del usuario tres veces:\n",
        "\n",
        "- una con todas las letras minúsculas\n",
        "- otra con todas las letras mayúsculas\n",
        "- otra solo con la primera letra del nombre y de los apellidos en mayúscula."
      ]
    },
    {
      "cell_type": "code",
      "execution_count": null,
      "id": "99d37f91",
      "metadata": {
        "colab": {
          "base_uri": "https://localhost:8080/"
        },
        "id": "99d37f91",
        "outputId": "dbad3bc9-8ab2-42de-e08f-44e687240e0d"
      },
      "outputs": [
        {
          "output_type": "stream",
          "name": "stdout",
          "text": [
            "¿Cómo te llamas? Nicolas\n",
            "¿Cómo se apellida? Lebus Urbieta\n",
            "Nombre en minúsculas: nicolas lebus urbieta\n",
            "Nombre en mayúsculas: NICOLAS LEBUS URBIETA\n",
            "Nombre con mayúsculas al inicio: Nicolas Lebus Urbieta\n"
          ]
        }
      ],
      "source": [
        "nombre = input(\"Escribe tu nombre \")\n",
        "apellido = input(\"Escribe tu apellido \")\n",
        "\n",
        "nombre_completo = f\"{nombre} {apellido}\"\n",
        "\n",
        "print(f\"Nombre en minúsculas: {nombre_completo.lower()}\")\n",
        "print(f\"Nombre en mayúsculas: {nombre_completo.upper()}\")\n",
        "print(f\"Nombre con mayúsculas al inicio: {nombre_completo.title()}\")"
      ]
    },
    {
      "cell_type": "code",
      "execution_count": null,
      "id": "87055f46",
      "metadata": {
        "id": "87055f46"
      },
      "outputs": [],
      "source": []
    },
    {
      "cell_type": "markdown",
      "id": "d66a4f32",
      "metadata": {
        "id": "d66a4f32"
      },
      "source": [
        "### 1.3\n",
        "Se tiene un dataset cuyos numeros telefonico siguen el siguiente formato: *prefijo-número-extension*\n",
        "\n",
        "Ejemplo: +34-913724710-56\n",
        "\n",
        "- Dado un numero telefonico, se pide mostrar en consola el siguiente mensaje:\n",
        "\n",
        "Su numero de telefono es: +34-913724710-56, Prefijo: 34, Numero: 913724710 y Extension: 56*\n",
        "\n",
        "**Ojo: no se vale contar caracteres, ya que la longitud tanto del prefijo, numero y extension podrian variar.**"
      ]
    },
    {
      "cell_type": "code",
      "source": [
        "numero = \"+34-913724710-56\"\n",
        "partes = numero.split('-')\n",
        "prefijo = partes[0].strip('+')\n",
        "numero = partes[1]\n",
        "extension = partes[2]\n",
        "\n",
        "print(f\"Su número de teléfono es: {numero}, Prefijo: {prefijo}, Número: {numero} y Extensión: {extension}\")"
      ],
      "metadata": {
        "colab": {
          "base_uri": "https://localhost:8080/"
        },
        "id": "az3bnj0r6C8-",
        "outputId": "314cf80c-e387-4288-f1f0-113898c341b5"
      },
      "id": "az3bnj0r6C8-",
      "execution_count": null,
      "outputs": [
        {
          "output_type": "stream",
          "name": "stdout",
          "text": [
            "Su número de teléfono es: 913724710, Prefijo: 34, Número: 913724710 y Extensión: 56\n"
          ]
        }
      ]
    },
    {
      "cell_type": "markdown",
      "id": "1c5f781e",
      "metadata": {
        "id": "1c5f781e"
      },
      "source": [
        "### 1.4\n",
        "Dada la siguiente lista de ``mails_viejos``, pasarla de forma automatizada a la de ``mails_nuevos``"
      ]
    },
    {
      "cell_type": "code",
      "execution_count": null,
      "id": "50dc1f91",
      "metadata": {
        "id": "50dc1f91",
        "colab": {
          "base_uri": "https://localhost:8080/"
        },
        "outputId": "8bb39f89-fe8e-491c-accb-5a0b9924f229"
      },
      "outputs": [
        {
          "output_type": "stream",
          "name": "stdout",
          "text": [
            "['amma@asda.com', 'aeda@dasd.com']\n"
          ]
        }
      ],
      "source": [
        "mails_viejos = ['amma@asda.com', 'aeda@dasd.com']\n",
        "\n",
        "mails_nuevos = []\n",
        "for mail in mails_viejos:\n",
        "  mails_nuevos.append(mail)\n",
        "print(mails_nuevos)"
      ]
    },
    {
      "cell_type": "markdown",
      "id": "1fe46a66",
      "metadata": {
        "id": "1fe46a66"
      },
      "source": [
        "### 1.5\n",
        "Escribir un script que pregunte al usuario por la contraseña e imprima por pantalla si la contraseña introducida por el usuario coincide con la guardada en la variable **sin tener en cuenta mayúsculas y minúsculas.**"
      ]
    },
    {
      "cell_type": "code",
      "execution_count": null,
      "id": "c55c38f7",
      "metadata": {
        "id": "c55c38f7",
        "colab": {
          "base_uri": "https://localhost:8080/"
        },
        "outputId": "480b145d-811c-4740-9ecc-4a805dfb3eb5"
      },
      "outputs": [
        {
          "output_type": "stream",
          "name": "stdout",
          "text": [
            "Ingresa tu contraseña: pasS123\n",
            "contraseña correcta\n"
          ]
        }
      ],
      "source": [
        "password = \"pasS123\"\n",
        "login = input(\"Ingresa tu contraseña: \")\n",
        "if login.lower() == password.lower():\n",
        "    print(\"contraseña correcta\")\n",
        "else:\n",
        "    print(\" contraseña es incorrecta\")"
      ]
    },
    {
      "cell_type": "markdown",
      "id": "d9d0bf90",
      "metadata": {
        "id": "d9d0bf90"
      },
      "source": [
        "### 1.6\n",
        "Un Banco quiere etiquetar a sus clientes en funcion de su salario para poder saber si puede asignarle o no una tarjeta de crédito. Solo los clientes clase A y B pueden acceder a la tarjeta.\n",
        "\n",
        "| Salario              | Clasificación |\n",
        "|----------------------|---------------|\n",
        "| Menos de 20000       | D             |\n",
        "| Entre 20000 y 50000  | C             |\n",
        "| Entre 50000 y 100000 | B             |\n",
        "| Mas de 100000        | A             |\n",
        "\n",
        "Generar un Script que dado un salario ingresado devuelva que clasificacion tiene y si califica o no para la tarjeta"
      ]
    },
    {
      "cell_type": "code",
      "execution_count": null,
      "id": "8d65cdc5",
      "metadata": {
        "colab": {
          "base_uri": "https://localhost:8080/"
        },
        "id": "8d65cdc5",
        "outputId": "805b08b0-8682-4ccb-b6ee-3ce6aae9ac11"
      },
      "outputs": [
        {
          "output_type": "stream",
          "name": "stdout",
          "text": [
            "Ingrese el salario del cliente: 123456\n",
            "Clasificación del cliente: A\n",
            "¿Califica para la tarjeta de crédito?: Califica\n"
          ]
        }
      ],
      "source": [
        "def clasificar_cliente(salario):\n",
        "\n",
        "  if salario < 20000:\n",
        "    clasificacion = \"D\"\n",
        "    calificacion_tarjeta = \"No califica\"\n",
        "  elif salario < 50000:\n",
        "    clasificacion = \"C\"\n",
        "    calificacion_tarjeta = \"No califica\"\n",
        "  elif salario < 100000:\n",
        "    clasificacion = \"B\"\n",
        "    calificacion_tarjeta = \"Califica\"\n",
        "  else:\n",
        "    clasificacion = \"A\"\n",
        "    calificacion_tarjeta = \"Califica\"\n",
        "\n",
        "  return (clasificacion, calificacion_tarjeta)\n",
        "\n",
        "salario_cliente = float(input(\"Ingrese el salario del cliente: \"))\n",
        "clasificacion, calificacion_tarjeta = clasificar_cliente(salario_cliente)\n",
        "\n",
        "print(f\"Clasificación del cliente: {clasificacion}\")\n",
        "print(f\"¿Califica para la tarjeta de crédito?: {calificacion_tarjeta}\")"
      ]
    },
    {
      "cell_type": "markdown",
      "id": "252e680e",
      "metadata": {
        "id": "252e680e"
      },
      "source": [
        "### 1.7\n",
        "Mostrar en consola todos los numeros desde el 1 hasta el 1000 que sean capicua (1, 11,101,etc)"
      ]
    },
    {
      "cell_type": "code",
      "source": [
        "lista = []\n",
        "\n",
        "for num in range(1, 1001):\n",
        "    if str(num) == str(num)[::-1]:\n",
        "        lista.append(num)\n",
        "print(lista)"
      ],
      "metadata": {
        "colab": {
          "base_uri": "https://localhost:8080/"
        },
        "id": "UrBxiedv7P5R",
        "outputId": "4a4ed495-848a-4c15-e37b-16c52291ab43"
      },
      "id": "UrBxiedv7P5R",
      "execution_count": null,
      "outputs": [
        {
          "output_type": "stream",
          "name": "stdout",
          "text": [
            "[1, 2, 3, 4, 5, 6, 7, 8, 9, 11, 22, 33, 44, 55, 66, 77, 88, 99, 101, 111, 121, 131, 141, 151, 161, 171, 181, 191, 202, 212, 222, 232, 242, 252, 262, 272, 282, 292, 303, 313, 323, 333, 343, 353, 363, 373, 383, 393, 404, 414, 424, 434, 444, 454, 464, 474, 484, 494, 505, 515, 525, 535, 545, 555, 565, 575, 585, 595, 606, 616, 626, 636, 646, 656, 666, 676, 686, 696, 707, 717, 727, 737, 747, 757, 767, 777, 787, 797, 808, 818, 828, 838, 848, 858, 868, 878, 888, 898, 909, 919, 929, 939, 949, 959, 969, 979, 989, 999]\n"
          ]
        }
      ]
    },
    {
      "cell_type": "markdown",
      "id": "ed9775d9",
      "metadata": {
        "id": "ed9775d9"
      },
      "source": [
        "### 1.8\n",
        "Escribir un programa que pida al usuario un número entero y muestre por pantalla un triángulo rectángulo como el de más abajo, de altura el número introducido.\n",
        "\n",
        "1\n",
        "\n",
        "3 1\n",
        "\n",
        "5 3 1\n",
        "\n",
        "7 5 3 1\n",
        "\n",
        "9 7 5 3 1"
      ]
    },
    {
      "cell_type": "code",
      "source": [
        "# Pedir al usuario un número entero\n",
        "altura = int(input(\"Introduce número triángulo: \"))\n",
        "# Iterar sobre cada fila del triángulo\n",
        "for i in range(1, altura + 1):\n",
        "    for j in range(2 * i - 1, 0, -2):\n",
        "        print(j, end=\" \")\n",
        "    print()"
      ],
      "metadata": {
        "colab": {
          "base_uri": "https://localhost:8080/"
        },
        "id": "JcdDTrJT7kOX",
        "outputId": "090329ca-c144-490d-edcb-fd529d60808d"
      },
      "id": "JcdDTrJT7kOX",
      "execution_count": null,
      "outputs": [
        {
          "output_type": "stream",
          "name": "stdout",
          "text": [
            "Introduce número triángulo: 5\n",
            "1 \n",
            "3 1 \n",
            "5 3 1 \n",
            "7 5 3 1 \n",
            "9 7 5 3 1 \n"
          ]
        }
      ]
    },
    {
      "cell_type": "markdown",
      "id": "afc536fd",
      "metadata": {
        "id": "afc536fd"
      },
      "source": [
        "### 1.9\n",
        "\n",
        "Escribir un script que dado un número entero positivo muestre la cuenta atrás desde ese número hasta cero separados por comas.\n"
      ]
    },
    {
      "cell_type": "code",
      "execution_count": null,
      "id": "d066b932",
      "metadata": {
        "colab": {
          "base_uri": "https://localhost:8080/"
        },
        "id": "d066b932",
        "outputId": "9bc5597d-534f-4745-af9f-e40d7c8fe910"
      },
      "outputs": [
        {
          "output_type": "stream",
          "name": "stdout",
          "text": [
            "Ingrese un número entero positivo: 10\n",
            "10, 9, 8, 7, 6, 5, 4, 3, 2, 1, 0\n"
          ]
        }
      ],
      "source": [
        "numero = int(input(\"Ingrese un número entero positivo: \"))\n",
        "\n",
        "if numero < 0:\n",
        "  raise ValueError(\"El número debe ser un entero positivo.\")\n",
        "\n",
        "for i in range(numero, 0, -1):\n",
        "  print(i, end=\", \")\n",
        "\n",
        "print(0)\n"
      ]
    },
    {
      "cell_type": "markdown",
      "id": "5926f0b2",
      "metadata": {
        "id": "5926f0b2"
      },
      "source": [
        "### 2.2\n",
        "\n",
        "Escribir un programa que almacene las asignaturas de un curso (por ejemplo Matemáticas, Física, Química, Historia y Lengua) en una lista, pregunte al usuario la nota que ha sacado en cada asignatura y elimine de la lista las asignaturas aprobadas. Al final el programa debe mostrar por pantalla las asignaturas que el usuario tiene que repetir.\n"
      ]
    },
    {
      "cell_type": "code",
      "source": [
        "asignaturas = ['Matemáticas', 'Física', 'Química', 'Historia', 'Lengua']\n",
        "asignaturas_a_repetir = []\n",
        "for asignatura in asignaturas:\n",
        "    nota = float(input(f\"Ingrese la nota de {asignatura}: \"))\n",
        "    if nota < 5:\n",
        "        asignaturas_a_repetir.append(asignatura)\n",
        "\n",
        "print(\"Asignaturas a repetir:\")\n",
        "for asignatura in asignaturas_a_repetir:\n",
        "    print(asignatura)"
      ],
      "metadata": {
        "colab": {
          "base_uri": "https://localhost:8080/"
        },
        "id": "PKP8_-RH8gMy",
        "outputId": "fe54a3d6-1ba2-469d-f749-00c8fb5b5e16"
      },
      "id": "PKP8_-RH8gMy",
      "execution_count": null,
      "outputs": [
        {
          "output_type": "stream",
          "name": "stdout",
          "text": [
            "Ingrese la nota de Matemáticas: 10\n",
            "Ingrese la nota de Física: 10\n",
            "Ingrese la nota de Química: 10\n",
            "Ingrese la nota de Historia: 2\n",
            "Ingrese la nota de Lengua: 3.5\n",
            "Asignaturas a repetir:\n",
            "Historia\n",
            "Lengua\n"
          ]
        }
      ]
    },
    {
      "cell_type": "markdown",
      "id": "54eded8d",
      "metadata": {
        "id": "54eded8d"
      },
      "source": [
        "### 2.3\n",
        "\n",
        "Escribir un programa que pida al usuario una palabra y muestre por pantalla el número de veces que contiene cada vocal.\n"
      ]
    },
    {
      "cell_type": "code",
      "execution_count": null,
      "id": "757e8b57",
      "metadata": {
        "colab": {
          "base_uri": "https://localhost:8080/"
        },
        "id": "757e8b57",
        "outputId": "88564311-1998-4286-fc91-a330463249ed"
      },
      "outputs": [
        {
          "output_type": "stream",
          "name": "stdout",
          "text": [
            "Introduce una palabra: aaaaaaaaaaaaaah bbbbbbbbaazxmc,zlxcmaspodiqwpoeiwqhfdsjbvnzxcm,znxcnalskdjqwopeiwqouriewhgjsdm,xzncasldqwo\n",
            "Número de apariciones de cada vocal:\n",
            "a: 19\n",
            "e: 3\n",
            "i: 4\n",
            "o: 5\n",
            "u: 1\n"
          ]
        }
      ],
      "source": [
        "#Solicitar al usuario una palabra\n",
        "palabra = input(\"Introduce una palabra: \")\n",
        "\n",
        "#Inicializar un diccionario para contar las vocales\n",
        "vocales = \"aeiou\"\n",
        "contador_vocales = {vocal: 0 for vocal in vocales}\n",
        "\n",
        "#Contar las vocales\n",
        "for letra in palabra.lower():\n",
        "  if letra in vocales:\n",
        "    contador_vocales[letra] += 1\n",
        "\n",
        "#Mostrar el resultado\n",
        "print(\"Número de apariciones de cada vocal:\")\n",
        "for vocal, count in contador_vocales.items():\n",
        "  print(f\"{vocal}: {count}\")"
      ]
    },
    {
      "cell_type": "markdown",
      "id": "5277a66c",
      "metadata": {
        "id": "5277a66c"
      },
      "source": [
        "### 2.4\n",
        "Escribir un programa que guarde en un diccionario los precios de las frutas de la tabla, pregunte al usuario por una fruta, un número de kilos y muestre por pantalla el precio de ese número de kilos de fruta. Si la fruta no está en el diccionario debe mostrar un mensaje informando de ello.\n",
        "\n",
        "| Fruta   | Precio por Kg |\n",
        "|---------|---------------|\n",
        "| Banana  | 150           |\n",
        "| Manzana | 200           |\n",
        "| Pera    | 180           |\n",
        "| Naranja | 100           |"
      ]
    },
    {
      "cell_type": "code",
      "execution_count": null,
      "id": "d95f0e60",
      "metadata": {
        "colab": {
          "base_uri": "https://localhost:8080/"
        },
        "id": "d95f0e60",
        "outputId": "7fb68538-6ad8-4b2c-fff9-20d496c105d9"
      },
      "outputs": [
        {
          "output_type": "stream",
          "name": "stdout",
          "text": [
            "Ingrese el nombre de la fruta: manzana\n",
            "Ingrese la cantidad de kilos: 100000000000\n",
            "100000000000.0 kilos de Manzana cuestan $20000000000000.00\n"
          ]
        }
      ],
      "source": [
        "frutas_precios = {\n",
        "    \"Banana\": 150,\n",
        "    \"Manzana\": 200,\n",
        "    \"Pera\": 180,\n",
        "    \"Naranja\": 100,\n",
        "}\n",
        "\n",
        "fruta = input(\"Ingrese el nombre de la fruta: \").title()\n",
        "cantidad_kilos = float(input(\"Ingrese la cantidad de kilos: \"))\n",
        "\n",
        "if fruta in frutas_precios:\n",
        "    precio_total = frutas_precios[fruta] * cantidad_kilos\n",
        "    print(f\"{cantidad_kilos} kilos de {fruta} cuestan ${precio_total:.2f}\")\n",
        "else:\n",
        "    print(f\"Lo siento, no tenemos {fruta} en stock.\")\n"
      ]
    },
    {
      "cell_type": "markdown",
      "id": "6769d482",
      "metadata": {
        "id": "6769d482"
      },
      "source": [
        "### 2.5\n",
        "\n",
        "Escribir un programa que pregunte una fecha en formato dd/mm/aaaa y muestre por pantalla la misma fecha en formato dd de mes de aaaa donde mes es el nombre del mes."
      ]
    },
    {
      "cell_type": "code",
      "execution_count": null,
      "id": "d833a50e",
      "metadata": {
        "colab": {
          "base_uri": "https://localhost:8080/"
        },
        "id": "d833a50e",
        "outputId": "76e3b7a3-4bf5-4f00-d2a8-8d22726bd05b"
      },
      "outputs": [
        {
          "output_type": "stream",
          "name": "stdout",
          "text": [
            "Ingrese una fecha (dd/mm/aaaa): 31/03/1000\n",
            "Fecha formateada: 31 de March de 1000\n"
          ]
        }
      ],
      "source": [
        "import datetime\n",
        "\n",
        "def format_date(date_str):\n",
        "\n",
        "  try:\n",
        "    date = datetime.datetime.strptime(date_str, \"%d/%m/%Y\")\n",
        "    month_name = date.strftime(\"%B\")\n",
        "    formatted_date = f\"{date.day} de {month_name} de {date.year}\"\n",
        "\n",
        "    return formatted_date\n",
        "  except ValueError:\n",
        "    return \"Ingrese  formato dd/mm/aaaa.\"\n",
        "\n",
        "date_str = input(\"Ingrese fecha (dd/mm/aaaa): \")\n",
        "\n",
        "formatted_date = format_date(date_str)\n",
        "print(f\"Fecha formateada: {formatted_date}\")"
      ]
    },
    {
      "cell_type": "markdown",
      "id": "3d4b9189",
      "metadata": {
        "id": "3d4b9189"
      },
      "source": [
        "### 2.6\n",
        "\n",
        "Escribir una función que reciba una muestra de números en una lista y devuelva su promedio.\n"
      ]
    },
    {
      "cell_type": "code",
      "source": [
        "def calcular_avg(numeros):\n",
        "    if len(numeros) == 0:\n",
        "        return 0\n",
        "    else:\n",
        "        suma_total = sum(numeros)\n",
        "        promedio = suma_total / len(numeros)\n",
        "        return promedio\n",
        "\n",
        "lista = [10, 20, 30, 40, 50]\n",
        "avg_lista = calcular_avg(lista)\n",
        "print(\"El promedio de la lista es:\", avg_lista)"
      ],
      "metadata": {
        "colab": {
          "base_uri": "https://localhost:8080/"
        },
        "id": "PKO10nkb-RLG",
        "outputId": "99fb41f4-2ec1-4218-b6d8-2ee581fedf8e"
      },
      "id": "PKO10nkb-RLG",
      "execution_count": null,
      "outputs": [
        {
          "output_type": "stream",
          "name": "stdout",
          "text": [
            "El promedio de la lista es: 30.0\n"
          ]
        }
      ]
    },
    {
      "cell_type": "markdown",
      "id": "2e484008",
      "metadata": {
        "id": "2e484008"
      },
      "source": [
        "### 2.7\n",
        "\n",
        "Escribir una funcion que tome un string como parametro y devuelva el string pero en orden inversor\n"
      ]
    },
    {
      "cell_type": "code",
      "source": [
        "def string_inverso(cadena):\n",
        "    return cadena[::-1]\n",
        "\n",
        "texto_original = \"Arenera\"\n",
        "\n",
        "texto_inverso = string_inverso(texto_original)\n",
        "\n",
        "print(\"Texto original:\", texto_original)\n",
        "print(\"Texto invertido:\", texto_inverso)"
      ],
      "metadata": {
        "colab": {
          "base_uri": "https://localhost:8080/"
        },
        "id": "ed-G1jy6-t-c",
        "outputId": "5b9dcb91-c330-4a01-8cfe-6e26ec4df2f1"
      },
      "id": "ed-G1jy6-t-c",
      "execution_count": null,
      "outputs": [
        {
          "output_type": "stream",
          "name": "stdout",
          "text": [
            "Texto original: Arenera\n",
            "Texto invertido: arenerA\n"
          ]
        }
      ]
    },
    {
      "cell_type": "markdown",
      "id": "ae6c901f",
      "metadata": {
        "id": "ae6c901f"
      },
      "source": [
        "### 2.8\n",
        "Escribir una funcion que tome un string como parametro y devuelva la palabra mas larga en dicho string\n"
      ]
    },
    {
      "cell_type": "code",
      "execution_count": null,
      "id": "45c77612",
      "metadata": {
        "colab": {
          "base_uri": "https://localhost:8080/"
        },
        "id": "45c77612",
        "outputId": "3ed0f89d-66c1-44bd-96e5-815b16c4c4d2"
      },
      "outputs": [
        {
          "output_type": "stream",
          "name": "stdout",
          "text": [
            "Hola, qué haces? Fuiste al otorrino al final?\n",
            "La palabra más larga en la cadena es: otorrino\n"
          ]
        }
      ],
      "source": [
        "def encontrar_palabra_mas_larga(cadena):\n",
        "  if not cadena:\n",
        "    raise ValueError(\"La cadena no puede estar vacía.\")\n",
        "\n",
        "  palabras = cadena.split()\n",
        "  palabra_mas_larga = max(palabras, key=len)\n",
        "\n",
        "  return palabra_mas_larga\n",
        "\n",
        "cadena = input()\n",
        "palabra_mas_larga = encontrar_palabra_mas_larga(cadena)\n",
        "print(f\"La palabra más larga en la cadena es: {palabra_mas_larga}\")"
      ]
    },
    {
      "cell_type": "markdown",
      "id": "275d9cb9",
      "metadata": {
        "id": "275d9cb9"
      },
      "source": [
        "### 2.9\n",
        "Escribir una funcion que tome dos strings como parametros y sin importar mayusculas ni minusculas devuelva:\n",
        "- True: si son iguales\n",
        "- False: si son diferentes"
      ]
    },
    {
      "cell_type": "code",
      "source": [
        "def comparar_strings(palabra1, palabra2):\n",
        "    return palabra1.lower() == palabra2.lower()\n",
        "\n",
        "palabra1 = input()\n",
        "palabra2 = input()\n",
        "\n",
        "resultado = comparar_strings(palabra1, palabra2)\n",
        "print(\"Los strings son iguales:\", resultado)\n"
      ],
      "metadata": {
        "colab": {
          "base_uri": "https://localhost:8080/"
        },
        "id": "F7rv6K6n_pys",
        "outputId": "66e57c69-a2ef-4b41-93e5-234c8e117142"
      },
      "id": "F7rv6K6n_pys",
      "execution_count": null,
      "outputs": [
        {
          "output_type": "stream",
          "name": "stdout",
          "text": [
            "HOLA\n",
            "hola\n",
            "Los strings son iguales: True\n"
          ]
        }
      ]
    },
    {
      "cell_type": "markdown",
      "id": "6e2dc662",
      "metadata": {
        "id": "6e2dc662"
      },
      "source": [
        "### 3.0\n",
        "Escribir una funcion que dado una lista de numeros devuelva la multiplicacion de todos ellos\n"
      ]
    },
    {
      "cell_type": "code",
      "source": [
        "def multiplicacion_numeros(lista):\n",
        "    resultado = 1\n",
        "    for numero in lista:\n",
        "        resultado *= numero\n",
        "    return resultado\n",
        "\n",
        "numeros_fixed = [1,2,3,4,5,-6]\n",
        "\n",
        "resultado1 = multiplicacion_numeros(numeros_fixed)\n",
        "print(f\"La multiplicación de {numeros_fixed} es:\", resultado1)\n",
        "\n",
        "numeros_input = [int(x) for x in input(\"Agregar 6 números separados por comas: \").split(',')]\n",
        "\n",
        "resultado2 = multiplicacion_numeros(numeros_input)\n",
        "print(\"El resultado de la multiplicación es:\", resultado2)"
      ],
      "metadata": {
        "colab": {
          "base_uri": "https://localhost:8080/"
        },
        "id": "A8w5J0jY_9Vu",
        "outputId": "32127f9d-3d76-44c2-f59a-e1e0f01f8416"
      },
      "id": "A8w5J0jY_9Vu",
      "execution_count": null,
      "outputs": [
        {
          "output_type": "stream",
          "name": "stdout",
          "text": [
            "La multiplicación de [1, 2, 3, 4, 5, -6] es: -720\n",
            "Agregar 6 números separados por comas: 1,2,3,4,5,6\n",
            "El resultado de la multiplicación es: 720\n"
          ]
        }
      ]
    },
    {
      "cell_type": "markdown",
      "id": "6585e0d5",
      "metadata": {
        "id": "6585e0d5"
      },
      "source": [
        "### 3.1\n",
        "Escribir un programa que reciba una cadena de caracteres y devuelva un diccionario con cada palabra que contiene y su frecuencia.\n"
      ]
    },
    {
      "cell_type": "code",
      "execution_count": null,
      "id": "2661b6a0",
      "metadata": {
        "colab": {
          "base_uri": "https://localhost:8080/"
        },
        "id": "2661b6a0",
        "outputId": "fabf4f02-5fe4-4bc8-bc79-0975d58a8ca5"
      },
      "outputs": [
        {
          "output_type": "stream",
          "name": "stdout",
          "text": [
            "Hola! Cómo les va? Me fui de vacaciones a la Patagonia y me compré 3 kg de frutas finas, como así también hice trekking al Cerro Tronador\n",
            "Frecuencias de palabras en la cadena: {'hola!': 1, 'cómo': 1, 'les': 1, 'va?': 1, 'me': 2, 'fui': 1, 'de': 2, 'vacaciones': 1, 'a': 1, 'la': 1, 'patagonia': 1, 'y': 1, 'compré': 1, '3': 1, 'kg': 1, 'frutas': 1, 'finas,': 1, 'como': 1, 'así': 1, 'también': 1, 'hice': 1, 'trekking': 1, 'al': 1, 'cerro': 1, 'tronador': 1}\n"
          ]
        }
      ],
      "source": [
        "def contar_frecuencias_palabras(cadena):\n",
        "\n",
        "  if not cadena:\n",
        "    raise ValueError(\"La cadena de texto no puede estar vacía.\")\n",
        "\n",
        "  cadena_minusculas = cadena.lower()\n",
        "  palabras = cadena_minusculas.split()\n",
        "  frecuencias_palabras = {}\n",
        "\n",
        "  for palabra in palabras:\n",
        "    if palabra in frecuencias_palabras:\n",
        "      frecuencias_palabras[palabra] += 1\n",
        "    else:\n",
        "      frecuencias_palabras[palabra] = 1\n",
        "\n",
        "  return frecuencias_palabras\n",
        "\n",
        "cadena_texto = input()\n",
        "frecuencias = contar_frecuencias_palabras(cadena_texto)\n",
        "print(f\"Frecuencias de palabras en la cadena: {frecuencias}\")"
      ]
    },
    {
      "cell_type": "markdown",
      "id": "a8a520af",
      "metadata": {
        "id": "a8a520af"
      },
      "source": [
        "## Depuración de errores\n",
        "\n",
        "En cada ejercicio corré el codigo, analizá el error en consola y corregilo"
      ]
    },
    {
      "cell_type": "markdown",
      "id": "ba287984",
      "metadata": {
        "id": "ba287984"
      },
      "source": [
        "### 3.2"
      ]
    },
    {
      "cell_type": "code",
      "source": [
        "contraseña = input('Introduce la contraseña: \")\n",
        "if contraseña in ['sesamo'):\n",
        "  print('Pasa')\n",
        "else\n",
        "  print('No pasa')"
      ],
      "metadata": {
        "colab": {
          "base_uri": "https://localhost:8080/",
          "height": 106
        },
        "id": "n1AoZShpIVFh",
        "outputId": "62575e83-0032-4167-df80-f1536038bdba"
      },
      "id": "n1AoZShpIVFh",
      "execution_count": null,
      "outputs": [
        {
          "output_type": "error",
          "ename": "SyntaxError",
          "evalue": "unterminated string literal (detected at line 1) (<ipython-input-15-30430b55f604>, line 1)",
          "traceback": [
            "\u001b[0;36m  File \u001b[0;32m\"<ipython-input-15-30430b55f604>\"\u001b[0;36m, line \u001b[0;32m1\u001b[0m\n\u001b[0;31m    contraseña = input('Introduce la contraseña: \")\u001b[0m\n\u001b[0m                       ^\u001b[0m\n\u001b[0;31mSyntaxError\u001b[0m\u001b[0;31m:\u001b[0m unterminated string literal (detected at line 1)\n"
          ]
        }
      ]
    },
    {
      "cell_type": "code",
      "execution_count": null,
      "id": "6633235f",
      "metadata": {
        "colab": {
          "base_uri": "https://localhost:8080/"
        },
        "id": "6633235f",
        "outputId": "3118b54b-6d36-443f-c8a1-ba81d60218f2"
      },
      "outputs": [
        {
          "output_type": "stream",
          "name": "stdout",
          "text": [
            "Introduce la contraseña: sesamo\n",
            "Pasa\n"
          ]
        }
      ],
      "source": [
        "contraseña = input('Introduce la contraseña: ')  # Hay que corregir las comillas\n",
        "\n",
        "if contraseña in ('sesamo'): # Hay que corregir los corchetes/paréntesis\n",
        "    print('Pasa')\n",
        "else:\n",
        "    print('No pasa')\n"
      ]
    },
    {
      "cell_type": "markdown",
      "id": "3311f451",
      "metadata": {
        "id": "3311f451"
      },
      "source": [
        "### 3.3"
      ]
    },
    {
      "cell_type": "code",
      "execution_count": null,
      "id": "67458b41",
      "metadata": {
        "id": "67458b41",
        "colab": {
          "base_uri": "https://localhost:8080/",
          "height": 228
        },
        "outputId": "6ee4b909-61d0-42f5-94a3-03461e59be81"
      },
      "outputs": [
        {
          "name": "stdout",
          "output_type": "stream",
          "text": [
            "Introduce la base imponible de la factura: 10\n"
          ]
        },
        {
          "output_type": "error",
          "ename": "NameError",
          "evalue": "name 'aplica_iva' is not defined",
          "traceback": [
            "\u001b[0;31m---------------------------------------------------------------------------\u001b[0m",
            "\u001b[0;31mNameError\u001b[0m                                 Traceback (most recent call last)",
            "\u001b[0;32m<ipython-input-64-d86635c951d6>\u001b[0m in \u001b[0;36m<cell line: 2>\u001b[0;34m()\u001b[0m\n\u001b[1;32m      1\u001b[0m \u001b[0mbase\u001b[0m \u001b[0;34m=\u001b[0m \u001b[0minput\u001b[0m\u001b[0;34m(\u001b[0m\u001b[0;34m'Introduce la base imponible de la factura: '\u001b[0m\u001b[0;34m)\u001b[0m\u001b[0;34m\u001b[0m\u001b[0;34m\u001b[0m\u001b[0m\n\u001b[0;32m----> 2\u001b[0;31m \u001b[0mprint\u001b[0m\u001b[0;34m(\u001b[0m\u001b[0maplica_iva\u001b[0m\u001b[0;34m(\u001b[0m\u001b[0mbase\u001b[0m\u001b[0;34m,\u001b[0m \u001b[0miva\u001b[0m\u001b[0;34m)\u001b[0m\u001b[0;34m)\u001b[0m\u001b[0;34m\u001b[0m\u001b[0;34m\u001b[0m\u001b[0m\n\u001b[0m\u001b[1;32m      3\u001b[0m \u001b[0;34m\u001b[0m\u001b[0m\n\u001b[1;32m      4\u001b[0m \u001b[0;32mdef\u001b[0m \u001b[0maplica_iva\u001b[0m\u001b[0;34m(\u001b[0m\u001b[0mbase\u001b[0m\u001b[0;34m,\u001b[0m \u001b[0miva\u001b[0m \u001b[0;34m=\u001b[0m \u001b[0;36m21\u001b[0m\u001b[0;34m)\u001b[0m\u001b[0;34m:\u001b[0m\u001b[0;34m\u001b[0m\u001b[0;34m\u001b[0m\u001b[0m\n\u001b[1;32m      5\u001b[0m     \u001b[0mbase\u001b[0m \u001b[0;34m=\u001b[0m \u001b[0mbase\u001b[0m \u001b[0;34m*\u001b[0m \u001b[0miva\u001b[0m\u001b[0;34m\u001b[0m\u001b[0;34m\u001b[0m\u001b[0m\n",
            "\u001b[0;31mNameError\u001b[0m: name 'aplica_iva' is not defined"
          ]
        }
      ],
      "source": [
        "base = input('Introduce la base imponible de la factura: ')\n",
        "print(aplica_iva(base, iva))\n",
        "\n",
        "def aplica_iva(base, iva = 21):\n",
        "    base = base * iva\n",
        "    return base"
      ]
    },
    {
      "cell_type": "code",
      "source": [
        "# fix cambiar el orden del print después de definir función, definir variable iva y calculo del iva en total\n",
        "base = float(input('Introduce importe de factura: '))\n",
        "\n",
        "def aplica_iva(base, iva=21):\n",
        "    total = base * (1 + iva / 100)\n",
        "    return total\n",
        "\n",
        "print(aplica_iva(base))"
      ],
      "metadata": {
        "colab": {
          "base_uri": "https://localhost:8080/"
        },
        "id": "TdlcVwP93N3E",
        "outputId": "c70648de-c00c-4e4f-f1a8-016f8010e6f7"
      },
      "id": "TdlcVwP93N3E",
      "execution_count": null,
      "outputs": [
        {
          "output_type": "stream",
          "name": "stdout",
          "text": [
            "Introduce importe de factura: 10\n",
            "12.1\n"
          ]
        }
      ]
    },
    {
      "cell_type": "markdown",
      "id": "7ba7523c",
      "metadata": {
        "id": "7ba7523c"
      },
      "source": [
        "### 3.4"
      ]
    },
    {
      "cell_type": "code",
      "execution_count": null,
      "id": "7802da60",
      "metadata": {
        "id": "7802da60",
        "colab": {
          "base_uri": "https://localhost:8080/",
          "height": 297
        },
        "outputId": "5fb60689-9f8e-4c8d-eae7-b88662c49bb2"
      },
      "outputs": [
        {
          "output_type": "error",
          "ename": "KeyError",
          "evalue": "'Pablo'",
          "traceback": [
            "\u001b[0;31m---------------------------------------------------------------------------\u001b[0m",
            "\u001b[0;31mKeyError\u001b[0m                                  Traceback (most recent call last)",
            "\u001b[0;32m<ipython-input-77-362aece92263>\u001b[0m in \u001b[0;36m<cell line: 7>\u001b[0;34m()\u001b[0m\n\u001b[1;32m      5\u001b[0m     \u001b[0;32mreturn\u001b[0m \u001b[0mlistin\u001b[0m\u001b[0;34m[\u001b[0m\u001b[0musuario\u001b[0m\u001b[0;34m]\u001b[0m\u001b[0;34m\u001b[0m\u001b[0;34m\u001b[0m\u001b[0m\n\u001b[1;32m      6\u001b[0m \u001b[0;34m\u001b[0m\u001b[0m\n\u001b[0;32m----> 7\u001b[0;31m \u001b[0mprint\u001b[0m\u001b[0;34m(\u001b[0m\u001b[0melimina\u001b[0m\u001b[0;34m(\u001b[0m\u001b[0mlistin\u001b[0m\u001b[0;34m,\u001b[0m \u001b[0;34m'Pablo'\u001b[0m\u001b[0;34m)\u001b[0m\u001b[0;34m)\u001b[0m\u001b[0;34m\u001b[0m\u001b[0;34m\u001b[0m\u001b[0m\n\u001b[0m",
            "\u001b[0;32m<ipython-input-77-362aece92263>\u001b[0m in \u001b[0;36melimina\u001b[0;34m(listin, usuario)\u001b[0m\n\u001b[1;32m      2\u001b[0m \u001b[0;34m\u001b[0m\u001b[0m\n\u001b[1;32m      3\u001b[0m \u001b[0;32mdef\u001b[0m \u001b[0melimina\u001b[0m\u001b[0;34m(\u001b[0m\u001b[0mlistin\u001b[0m\u001b[0;34m,\u001b[0m \u001b[0musuario\u001b[0m\u001b[0;34m)\u001b[0m\u001b[0;34m:\u001b[0m\u001b[0;34m\u001b[0m\u001b[0;34m\u001b[0m\u001b[0m\n\u001b[0;32m----> 4\u001b[0;31m     \u001b[0;32mdel\u001b[0m \u001b[0mlistin\u001b[0m\u001b[0;34m[\u001b[0m\u001b[0musuario\u001b[0m\u001b[0;34m]\u001b[0m\u001b[0;34m\u001b[0m\u001b[0;34m\u001b[0m\u001b[0m\n\u001b[0m\u001b[1;32m      5\u001b[0m     \u001b[0;32mreturn\u001b[0m \u001b[0mlistin\u001b[0m\u001b[0;34m[\u001b[0m\u001b[0musuario\u001b[0m\u001b[0;34m]\u001b[0m\u001b[0;34m\u001b[0m\u001b[0;34m\u001b[0m\u001b[0m\n\u001b[1;32m      6\u001b[0m \u001b[0;34m\u001b[0m\u001b[0m\n",
            "\u001b[0;31mKeyError\u001b[0m: 'Pablo'"
          ]
        }
      ],
      "source": [
        "listin = {'Juan':123456789, 'Pedro':987654321}\n",
        "\n",
        "def elimina(listin, usuario):\n",
        "    del listin[usuario]\n",
        "    return listin[usuario]\n",
        "\n",
        "print(elimina(listin, 'Pablo')) # No está en el diccionario"
      ]
    },
    {
      "cell_type": "code",
      "source": [
        "listin = {'Juan': 123456789, 'Pedro': 987654321}\n",
        "\n",
        "def elimina(listin, usuario):\n",
        "    if usuario in listin:\n",
        "        del listin[usuario]\n",
        "        return listin\n",
        "    else:\n",
        "      print(f\"El usuario no existe \")\n",
        "    return None\n",
        "\n",
        "elimina(listin, 'Pablo')"
      ],
      "metadata": {
        "colab": {
          "base_uri": "https://localhost:8080/"
        },
        "id": "vH9zcODPJNgj",
        "outputId": "b256e6a1-f8d6-418e-a44e-8530cce4ad1f"
      },
      "id": "vH9zcODPJNgj",
      "execution_count": 3,
      "outputs": [
        {
          "output_type": "stream",
          "name": "stdout",
          "text": [
            "El usuario no existe \n"
          ]
        }
      ]
    }
  ],
  "metadata": {
    "kernelspec": {
      "display_name": "Python 3 (ipykernel)",
      "language": "python",
      "name": "python3"
    },
    "language_info": {
      "codemirror_mode": {
        "name": "ipython",
        "version": 3
      },
      "file_extension": ".py",
      "mimetype": "text/x-python",
      "name": "python",
      "nbconvert_exporter": "python",
      "pygments_lexer": "ipython3",
      "version": "3.11.9"
    },
    "colab": {
      "provenance": []
    }
  },
  "nbformat": 4,
  "nbformat_minor": 5
}